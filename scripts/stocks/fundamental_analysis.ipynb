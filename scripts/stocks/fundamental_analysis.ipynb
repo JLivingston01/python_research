{
 "cells": [
  {
   "cell_type": "code",
   "execution_count": null,
   "metadata": {},
   "outputs": [],
   "source": [
    "import pandas as pd\n",
    "import requests\n",
    "import json\n",
    "from dotenv import load_dotenv\n",
    "import os\n",
    "import time\n",
    "import numpy as np"
   ]
  },
  {
   "cell_type": "code",
   "execution_count": null,
   "metadata": {},
   "outputs": [],
   "source": [
    "load_dotenv(\"../../.env\",override=True)\n",
    "consumerKey = os.environ.get(\"CONSUMER_KEY\")\n"
   ]
  },
  {
   "cell_type": "code",
   "execution_count": null,
   "metadata": {},
   "outputs": [],
   "source": [
    "pd.set_option(\"display.max_columns\",500)\n",
    "pd.set_option(\"display.max_rows\",20)"
   ]
  },
  {
   "cell_type": "code",
   "execution_count": null,
   "metadata": {},
   "outputs": [],
   "source": [
    "def request_fundamentals(Tickers: list, consumerKey: str) -> pd.DataFrame:\n",
    "    \"\"\"_summary_\n",
    "\n",
    "    Args:\n",
    "        Tickers (list)\n",
    "        consumerKey (str)\n",
    "\n",
    "    Returns:\n",
    "        pd.DataFrame\n",
    "    \"\"\"\n",
    "    symbolList = \",\".join([i for i in Tickers])\n",
    "    endpoint = f'''https://api.tdameritrade.com/v1/instruments?\n",
    "        &symbol={symbolList}&projection=fundamental'''\n",
    "    page = requests.get(url=endpoint, \n",
    "        params={'apikey' : consumerKey})\n",
    "    content = json.loads(page.content)\n",
    "\n",
    "    allDict = {}\n",
    "    for k in list(content.keys()):\n",
    "        allDict[k] = content[k]['fundamental']\n",
    "    fundamentals = pd.DataFrame(allDict).T\n",
    "        \n",
    "    return fundamentals\n",
    "\n",
    "def request_quotes(consumerKey: str, Tickers: list) -> pd.DataFrame:\n",
    "    \"\"\"_summary_\n",
    "\n",
    "    Args:\n",
    "        consumerKey (str): _description_\n",
    "        Tickers (list): _description_\n",
    "\n",
    "    Returns:\n",
    "        pd.DataFrame: _description_\n",
    "    \"\"\"\n",
    "    \n",
    "    symbolList = \",\".join([i for i in Tickers])\n",
    "    endpoint = f\"https://api.tdameritrade.com/v1/marketdata/quotes?symbol={symbolList}\"\n",
    "    page = requests.get(url=endpoint, \n",
    "                params={'apikey' : consumerKey})\n",
    "    content = json.loads(page.content)\n",
    "    content = pd.DataFrame(content).T\n",
    "    return content"
   ]
  },
  {
   "cell_type": "code",
   "execution_count": null,
   "metadata": {},
   "outputs": [],
   "source": [
    "symbols = pd.read_excel(\"../../data/static_files/LargeCapFina.xlsx\",header=1)\n",
    "symbols['Symbol'].fillna(\"-\",inplace=True)\n",
    "Tickers = list(symbols[(~symbols['Symbol'].astype(str).str.contains('-'))]['Symbol'])\n"
   ]
  },
  {
   "cell_type": "code",
   "execution_count": null,
   "metadata": {},
   "outputs": [],
   "source": [
    "\n",
    "FDF = request_fundamentals(Tickers=Tickers,consumerKey=consumerKey)\n",
    "Quotes = request_quotes(Tickers=Tickers,consumerKey=consumerKey)"
   ]
  },
  {
   "cell_type": "code",
   "execution_count": null,
   "metadata": {},
   "outputs": [],
   "source": [
    "highGood = ['dividendAmount','dividendYield',\n",
    "    'grossMarginTTM','grossMarginMRQ','netProfitMarginTTM','netProfitMarginMRQ',\n",
    "    'operatingMarginTTM','operatingMarginMRQ',\n",
    "    'returnOnEquity', 'returnOnAssets', 'returnOnInvestment',\n",
    "    'quickRatio','currentRatio','interestCoverage',\n",
    "    'epsTTM','epsChangePercentTTM','epsChangeYear','epsChange',\n",
    "    'revChangeYear', 'revChangeTTM','revChangeIn','marketCap',\n",
    "    'divGrowthRate3Year','dividendPayAmount','beta']\n",
    "\n",
    "lowGood = [\n",
    "    'peRatio', 'pegRatio', 'pbRatio', 'prRatio', 'pcfRatio',\n",
    "    'totalDebtToCapital', 'ltDebtToEquity', 'totalDebtToEquity',\n",
    "    'shortIntToFloat', 'shortIntDayToCover'\n",
    "]"
   ]
  },
  {
   "cell_type": "code",
   "execution_count": null,
   "metadata": {},
   "outputs": [],
   "source": [
    "\n",
    "FDF=pd.DataFrame(np.where(FDF==0,np.nan,FDF),columns = FDF.columns)\n"
   ]
  },
  {
   "cell_type": "code",
   "execution_count": null,
   "metadata": {},
   "outputs": [],
   "source": [
    "Quotes[['symbol','lastPrice']].merge(FDF[['symbol','peRatio']],\n",
    "    on='symbol',how='inner')"
   ]
  },
  {
   "cell_type": "code",
   "execution_count": null,
   "metadata": {},
   "outputs": [],
   "source": [
    "FDF"
   ]
  },
  {
   "cell_type": "code",
   "execution_count": null,
   "metadata": {},
   "outputs": [],
   "source": []
  }
 ],
 "metadata": {
  "kernelspec": {
   "display_name": "Python 3.10.7 ('.venv': venv)",
   "language": "python",
   "name": "python3"
  },
  "language_info": {
   "codemirror_mode": {
    "name": "ipython",
    "version": 3
   },
   "file_extension": ".py",
   "mimetype": "text/x-python",
   "name": "python",
   "nbconvert_exporter": "python",
   "pygments_lexer": "ipython3",
   "version": "3.10.7"
  },
  "orig_nbformat": 4,
  "vscode": {
   "interpreter": {
    "hash": "e137ca245cdf1a2cc3131fd2af47b41809479e40b59e745af3a34d098f41895f"
   }
  }
 },
 "nbformat": 4,
 "nbformat_minor": 2
}
