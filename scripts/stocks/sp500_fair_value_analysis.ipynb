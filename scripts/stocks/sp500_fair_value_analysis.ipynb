{
 "cells": [
  {
   "cell_type": "code",
   "execution_count": null,
   "metadata": {},
   "outputs": [],
   "source": [
    "import matplotlib.pyplot as plt\n",
    "import pandas as pd\n",
    "import os\n",
    "from dotenv import load_dotenv\n",
    "import requests\n",
    "from datetime import timedelta\n",
    "import json"
   ]
  },
  {
   "cell_type": "code",
   "execution_count": null,
   "metadata": {},
   "outputs": [],
   "source": [
    "from sklearn.pipeline import Pipeline\n",
    "from sklearn.preprocessing import MinMaxScaler\n",
    "from sklearn.linear_model import PoissonRegressor\n",
    "from sklearn.model_selection import train_test_split\n",
    "from xgboost import XGBRegressor\n",
    "import numpy as np\n"
   ]
  },
  {
   "cell_type": "code",
   "execution_count": null,
   "metadata": {},
   "outputs": [],
   "source": [
    "import cpi\n"
   ]
  },
  {
   "cell_type": "code",
   "execution_count": null,
   "metadata": {},
   "outputs": [],
   "source": [
    "load_dotenv(\"../../.env\",override=True)\n",
    "pd.set_option(\"display.max_columns\",500)"
   ]
  },
  {
   "cell_type": "code",
   "execution_count": null,
   "metadata": {},
   "outputs": [],
   "source": [
    "college = cpi.series.get(items='College tuition and fees',periodicity='Monthly').to_dataframe().sort_values(by='date')\n",
    "housing = cpi.series.get(items='Housing',periodicity='Monthly').to_dataframe().sort_values(by='date')\n",
    "allItems = cpi.series.get(items='All items',periodicity='Monthly').to_dataframe().sort_values(by='date')\n",
    "energy = cpi.series.get(items='Energy',periodicity='Monthly').to_dataframe().sort_values(by='date')\n",
    "food = cpi.series.get(items='Food',periodicity='Monthly').to_dataframe().sort_values(by='date')\n",
    "medicalCare = cpi.series.get(items='Medical care',periodicity='Monthly').to_dataframe().sort_values(by='date')\n",
    "recreation = cpi.series.get(items='Recreation',periodicity='Monthly').to_dataframe().sort_values(by='date')\n",
    "rent = cpi.series.get(items='Rent of primary residence',periodicity='Monthly').to_dataframe().sort_values(by='date')\n",
    "healthInsurance = cpi.series.get(items='Health insurance',periodicity='Monthly').to_dataframe().sort_values(by='date')\n",
    "\n",
    "\n",
    "series = {\n",
    "    'college':college,\n",
    "    'housing':housing,\n",
    "    'allItems':allItems,\n",
    "    'energy':energy,\n",
    "    'food':food,\n",
    "    'medicalCare':medicalCare,\n",
    "    'recreation':recreation,\n",
    "    'rent':rent,\n",
    "    'healthInsurance':healthInsurance,\n",
    "}\n",
    "\n",
    "for k in series.keys():\n",
    "    series[k] = series[k][series[k]['period_type']=='monthly'][['year','date','value','series_id','series_items_name']].copy()\n",
    "    series[k]['inflation'] = series[k]['value']/series[k]['value'].shift(12) - 1\n",
    "    series[k].index = pd.to_datetime(series[k]['date']).values\n",
    "\n",
    "allDat = pd.concat(list(series.values()))\n",
    "allDat['date']=allDat['date'].astype(str)\n",
    "\n",
    "inflation_cross = pd.crosstab(index = allDat['date'],\n",
    "    columns = allDat['series_items_name'],\n",
    "    values = allDat['inflation'],\n",
    "    aggfunc='mean')\n",
    "\n",
    "cpi_cross = pd.crosstab(index = allDat['date'],\n",
    "    columns = allDat['series_items_name'],\n",
    "    values = allDat['value'],\n",
    "    aggfunc='mean')\n",
    "\n",
    "    \n",
    "cpi_cross['month'] = cpi_cross.index\n",
    "cpi_cross['month']=cpi_cross['month'].astype(str)\n",
    "cpi_cross['inflation']=cpi_cross['All items']/cpi_cross['All items'].shift(12) - 1\n"
   ]
  },
  {
   "cell_type": "code",
   "execution_count": null,
   "metadata": {},
   "outputs": [],
   "source": [
    "cpi_cross"
   ]
  },
  {
   "cell_type": "code",
   "execution_count": null,
   "metadata": {},
   "outputs": [],
   "source": [
    "consumerKey = os.environ.get(\"CONSUMER_KEY\")\n"
   ]
  },
  {
   "cell_type": "code",
   "execution_count": null,
   "metadata": {},
   "outputs": [],
   "source": [
    "url = \"https://api.tdameritrade.com/v1/marketdata/$SPX.X/pricehistory?periodType=year&period=20&frequencyType=weekly&frequency=1\"\n",
    "response = requests.get(url,\n",
    "        params={'apikey' : consumerKey})\n",
    "SPY = pd.DataFrame(json.loads(response.content)['candles'])\n",
    "SPY['date'] = pd.to_datetime(SPY['datetime'],unit='ms').dt.date\n",
    "SPY.index = SPY['date'].values\n",
    "\n",
    "SPY['month'] = pd.to_datetime(SPY['date']) - pd.to_timedelta(pd.to_datetime(SPY['date']).dt.day-1,unit='d')\n",
    "SPY['month'] = SPY['month'].astype(str)"
   ]
  },
  {
   "cell_type": "code",
   "execution_count": null,
   "metadata": {},
   "outputs": [],
   "source": [
    "PE_history = pd.read_html(\"https://www.multpl.com/s-p-500-pe-ratio/table/by-month\")\n",
    "PE_history = PE_history[0]\n",
    "PE_history.columns = ['month','sp500 pe']\n",
    "PE_history['sp500 pe'] = PE_history['sp500 pe'].str.replace(' estimate','').astype(float)\n",
    "PE_history['month'] = pd.to_datetime(PE_history['month']).astype(str)\n",
    "PE_history.index = pd.to_datetime(PE_history['month']).values"
   ]
  },
  {
   "cell_type": "code",
   "execution_count": null,
   "metadata": {},
   "outputs": [],
   "source": [
    "plt.plot(np.log(PE_history['sp500 pe'].head(500)))\n",
    "plt.xticks(rotation=90)"
   ]
  },
  {
   "cell_type": "code",
   "execution_count": null,
   "metadata": {},
   "outputs": [],
   "source": [
    "spy_pe_hist = SPY.merge(PE_history,left_on=['month'],right_on=['month'],how='left')\n",
    "spy_pe_hist = spy_pe_hist.merge(cpi_cross[['month','inflation','All items']],on='month',how='left')\n",
    "spy_pe_hist.index = pd.to_datetime(spy_pe_hist['date']).values"
   ]
  },
  {
   "cell_type": "code",
   "execution_count": null,
   "metadata": {},
   "outputs": [],
   "source": [
    "fix,ax1 = plt.subplots()\n",
    "ax1.plot(spy_pe_hist['close'])\n",
    "ax2 = ax1.twinx()\n",
    "ax2.plot(spy_pe_hist['sp500 pe'],color='red')"
   ]
  },
  {
   "cell_type": "code",
   "execution_count": null,
   "metadata": {},
   "outputs": [],
   "source": [
    "spy_pe_hist['All items'].fillna(spy_pe_hist[~spy_pe_hist['All items'].isna()]['All items'].values[-1],\n",
    "    inplace=True)\n",
    "spy_pe_hist['inflation'].fillna(spy_pe_hist[~spy_pe_hist['inflation'].isna()]['inflation'].values[-1],\n",
    "    inplace=True)\n"
   ]
  },
  {
   "cell_type": "code",
   "execution_count": null,
   "metadata": {},
   "outputs": [],
   "source": [
    "spy_pe_hist['close_yoy_change']=spy_pe_hist['close'].shift(-52)/spy_pe_hist['close']\n",
    "spy_pe_hist['masked sp500 pe'] = np.where(spy_pe_hist['sp500 pe'] > 40,40,spy_pe_hist['sp500 pe'] )\n",
    "spy_pe_hist['int1'] = spy_pe_hist['masked sp500 pe']*spy_pe_hist['All items']"
   ]
  },
  {
   "cell_type": "code",
   "execution_count": null,
   "metadata": {},
   "outputs": [],
   "source": [
    "s2 = spy_pe_hist.dropna().copy()"
   ]
  },
  {
   "cell_type": "code",
   "execution_count": null,
   "metadata": {},
   "outputs": [],
   "source": [
    "feats = ['masked sp500 pe','All items','inflation']\n",
    "kpi = 'close_yoy_change'\n",
    "\n",
    "X, y = s2[feats],s2[kpi]\n",
    "\n",
    "X_train,X_test,y_train,y_test =  train_test_split(\n",
    "    X, y, test_size=.05, random_state=42,shuffle=False)"
   ]
  },
  {
   "cell_type": "code",
   "execution_count": null,
   "metadata": {},
   "outputs": [],
   "source": [
    "from sklearn.linear_model import LinearRegression\n",
    "from sklearn.linear_model import PoissonRegressor\n",
    "\n",
    "\n",
    "pipe = Pipeline(\n",
    "    steps = [\n",
    "    #('scaler',MinMaxScaler()),\n",
    "    ('XGB',XGBRegressor(max_depth=3,n_estimators=50,random_state=42))\n",
    "   # ('LR',LinearRegression())\n",
    "    ]\n",
    ")\n",
    "\n",
    "pipe.fit(X_train,y_train)"
   ]
  },
  {
   "cell_type": "code",
   "execution_count": null,
   "metadata": {},
   "outputs": [],
   "source": [
    "pred = pipe.predict(s2[feats])\n",
    "\n",
    "s2['pred'] = pred\n",
    "\n",
    "plt.plot(s2[kpi])\n",
    "plt.plot(s2['pred'])"
   ]
  },
  {
   "cell_type": "code",
   "execution_count": null,
   "metadata": {},
   "outputs": [],
   "source": [
    "pred = pipe.predict(spy_pe_hist[feats])\n",
    "\n",
    "spy_pe_hist['pred'] = pred\n",
    "\n",
    "plt.plot(spy_pe_hist[kpi])\n",
    "plt.plot(spy_pe_hist['pred'])"
   ]
  },
  {
   "cell_type": "code",
   "execution_count": null,
   "metadata": {},
   "outputs": [],
   "source": [
    "spy_pe_hist"
   ]
  },
  {
   "cell_type": "code",
   "execution_count": null,
   "metadata": {},
   "outputs": [],
   "source": [
    "import shap\n",
    "explainer = shap.Explainer(pipe['XGB'])\n",
    "#shap_values = explainer(pd.DataFrame(MinMaxScaler().fit_transform(spy_pe_hist[feats]),columns=feats))\n",
    "shap_values = explainer(spy_pe_hist[feats])\n",
    "\n",
    "\n"
   ]
  },
  {
   "cell_type": "code",
   "execution_count": null,
   "metadata": {},
   "outputs": [],
   "source": [
    "\n",
    "shap.plots.waterfall(shap_values[1042])"
   ]
  },
  {
   "cell_type": "code",
   "execution_count": null,
   "metadata": {},
   "outputs": [],
   "source": [
    "len(spy_pe_hist)"
   ]
  },
  {
   "cell_type": "code",
   "execution_count": null,
   "metadata": {},
   "outputs": [],
   "source": []
  }
 ],
 "metadata": {
  "kernelspec": {
   "display_name": "Python 3.10.7 ('.venv': venv)",
   "language": "python",
   "name": "python3"
  },
  "language_info": {
   "codemirror_mode": {
    "name": "ipython",
    "version": 3
   },
   "file_extension": ".py",
   "mimetype": "text/x-python",
   "name": "python",
   "nbconvert_exporter": "python",
   "pygments_lexer": "ipython3",
   "version": "3.10.7"
  },
  "orig_nbformat": 4,
  "vscode": {
   "interpreter": {
    "hash": "e137ca245cdf1a2cc3131fd2af47b41809479e40b59e745af3a34d098f41895f"
   }
  }
 },
 "nbformat": 4,
 "nbformat_minor": 2
}
