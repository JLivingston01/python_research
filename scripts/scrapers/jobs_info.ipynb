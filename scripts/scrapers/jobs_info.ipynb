{
 "cells": [
  {
   "cell_type": "code",
   "execution_count": 15,
   "metadata": {},
   "outputs": [],
   "source": [
    "import requests\n",
    "import os\n",
    "from bs4 import BeautifulSoup\n",
    "from sklearn.feature_extraction.text import TfidfVectorizer,CountVectorizer\n",
    "import numpy as np\n",
    "import pandas as pd"
   ]
  },
  {
   "cell_type": "code",
   "execution_count": 2,
   "metadata": {},
   "outputs": [],
   "source": [
    "url = \"https://www.google.com/search?ibp=htl;jobs&q=data+science+consultant\""
   ]
  },
  {
   "cell_type": "code",
   "execution_count": 3,
   "metadata": {},
   "outputs": [],
   "source": [
    "headers = {\n",
    "    'user-agent':'Mozilla/5.0 (Windows NT 10.0; Win64; x64) AppleWebKit/537.36 (KHTML, like Gecko) Chrome/108.0.0.0 Safari/537.36'\n",
    "}\n",
    "\n",
    "response = requests.get(url,\n",
    "headers=headers\n",
    ")"
   ]
  },
  {
   "cell_type": "code",
   "execution_count": 4,
   "metadata": {},
   "outputs": [],
   "source": [
    "soup = BeautifulSoup(response.text)\n"
   ]
  },
  {
   "cell_type": "code",
   "execution_count": 5,
   "metadata": {},
   "outputs": [],
   "source": [
    "divs = soup.find_all('div',attrs={'class':'JxVj3d'})\n",
    "\n"
   ]
  },
  {
   "cell_type": "code",
   "execution_count": 6,
   "metadata": {},
   "outputs": [],
   "source": [
    "QualsResp = [i for i in divs if i.find_all('div',attrs={'class':'iflMsb'})[0].text != 'Benefits']\n",
    "text = [i.find_all('div',attrs={'class':'nDgy9d'}) for i in QualsResp]\n",
    "\n",
    "textlist = []\n",
    "\n",
    "for _list in text:\n",
    "\n",
    "    textlist = textlist+_list\n",
    "\n",
    "textlist = [i.text for i in textlist]\n",
    "\n",
    "def make_alnumsp(s: str) -> str:\n",
    "    return ''.join([i for i in s if (i.isalnum())|(i==\" \")])\n",
    "\n",
    "lower_alnum = [make_alnumsp(i).lower() for i in textlist]\n"
   ]
  },
  {
   "cell_type": "code",
   "execution_count": 12,
   "metadata": {},
   "outputs": [
    {
     "name": "stdout",
     "output_type": "stream",
     "text": [
      "(84, 496)\n"
     ]
    }
   ],
   "source": [
    "\n",
    "vectorizer = TfidfVectorizer()\n",
    "X = vectorizer.fit_transform(lower_alnum)\n",
    "\n",
    "print(X.shape)\n",
    "\n",
    "TfidfDF = pd.DataFrame(X.todense(),columns = list(vectorizer.get_feature_names_out()))\n",
    "\n",
    "TfidfDF = pd.DataFrame(np.where(TfidfDF==0,np.nan,TfidfDF),columns = list(vectorizer.get_feature_names_out()))\n"
   ]
  },
  {
   "cell_type": "code",
   "execution_count": 14,
   "metadata": {},
   "outputs": [
    {
     "data": {
      "text/plain": [
       "qualitycheck       0.631727\n",
       "clean              0.631727\n",
       "theory             0.610328\n",
       "probability        0.610328\n",
       "comparable         0.601696\n",
       "proficiency        0.590710\n",
       "shiny              0.577350\n",
       "tableau            0.577350\n",
       "powerbi            0.577350\n",
       "pythonr            0.543591\n",
       "reasoning          0.528148\n",
       "visualization      0.522790\n",
       "tools              0.522790\n",
       "aptitude           0.520963\n",
       "problemsolving     0.520963\n",
       "acumen             0.520963\n",
       "machinelearning    0.494947\n",
       "nlp                0.494947\n",
       "sql                0.494712\n",
       "solid              0.484353\n",
       "skillsets          0.484353\n",
       "pandas             0.484353\n",
       "risk               0.476311\n",
       "selling            0.472404\n",
       "education          0.468765\n",
       "bachelors          0.468765\n",
       "gather             0.466106\n",
       "query              0.466106\n",
       "prospect           0.454479\n",
       "actively           0.454479\n",
       "programming        0.452017\n",
       "languages          0.444823\n",
       "spark              0.444823\n",
       "resolution         0.439555\n",
       "conflicts          0.439555\n",
       "influence          0.439555\n",
       "pre                0.436292\n",
       "scaling            0.436292\n",
       "function           0.436292\n",
       "software           0.427800\n",
       "architecture       0.427800\n",
       "python             0.427557\n",
       "hardworking        0.426223\n",
       "manage             0.425131\n",
       "grow               0.425131\n",
       "mentor             0.425131\n",
       "analyst            0.416656\n",
       "represent          0.409861\n",
       "meetings           0.409861\n",
       "written            0.403784\n",
       "dtype: float64"
      ]
     },
     "execution_count": 14,
     "metadata": {},
     "output_type": "execute_result"
    }
   ],
   "source": [
    "meanImportance = np.nanmean(TfidfDF,axis=0)\n",
    "relativeImportance = pd.Series(meanImportance,index=TfidfDF.columns)\n",
    "relativeImportance.sort_values(ascending=False).head(50)"
   ]
  },
  {
   "cell_type": "code",
   "execution_count": 26,
   "metadata": {},
   "outputs": [
    {
     "name": "stdout",
     "output_type": "stream",
     "text": [
      "(84, 496)\n"
     ]
    }
   ],
   "source": [
    "vectorizer = CountVectorizer()\n",
    "X = vectorizer.fit_transform(lower_alnum)\n",
    "\n",
    "print(X.shape)\n",
    "\n",
    "CountDF = pd.DataFrame(X.todense(),columns = list(vectorizer.get_feature_names_out()))\n",
    "\n",
    "WordCounts = np.sum(CountDF).sort_values(ascending=False)"
   ]
  },
  {
   "cell_type": "code",
   "execution_count": 29,
   "metadata": {},
   "outputs": [],
   "source": [
    "stop_words = list(WordCounts[:25].index)"
   ]
  },
  {
   "cell_type": "code",
   "execution_count": 31,
   "metadata": {},
   "outputs": [
    {
     "data": {
      "text/plain": [
       "who             6\n",
       "including       6\n",
       "clients         6\n",
       "analytics       6\n",
       "develop         5\n",
       "this            5\n",
       "new             5\n",
       "risk            5\n",
       "youll           5\n",
       "large           5\n",
       "role            5\n",
       "customers       5\n",
       "degree          5\n",
       "eg              5\n",
       "design          5\n",
       "challenges      5\n",
       "statistics      5\n",
       "successful      4\n",
       "experienced     4\n",
       "process         4\n",
       "drive           4\n",
       "strong          4\n",
       "python          4\n",
       "projects        4\n",
       "an              4\n",
       "skills          4\n",
       "have            4\n",
       "support         4\n",
       "from            4\n",
       "computer        4\n",
       "analytic        4\n",
       "compliance      4\n",
       "complex         4\n",
       "love            3\n",
       "equivalent      3\n",
       "driven          3\n",
       "eager           3\n",
       "solve           3\n",
       "tech            3\n",
       "engineer        3\n",
       "engineering     3\n",
       "their           3\n",
       "techniques      3\n",
       "closely         3\n",
       "teams           3\n",
       "collaborate     3\n",
       "stakeholders    3\n",
       "consultants     3\n",
       "etc             3\n",
       "knowledge       3\n",
       "dtype: int64"
      ]
     },
     "execution_count": 31,
     "metadata": {},
     "output_type": "execute_result"
    }
   ],
   "source": [
    "WordCounts[25:75]"
   ]
  },
  {
   "cell_type": "code",
   "execution_count": null,
   "metadata": {},
   "outputs": [],
   "source": []
  }
 ],
 "metadata": {
  "kernelspec": {
   "display_name": ".venv",
   "language": "python",
   "name": "python3"
  },
  "language_info": {
   "codemirror_mode": {
    "name": "ipython",
    "version": 3
   },
   "file_extension": ".py",
   "mimetype": "text/x-python",
   "name": "python",
   "nbconvert_exporter": "python",
   "pygments_lexer": "ipython3",
   "version": "3.10.7"
  },
  "orig_nbformat": 4,
  "vscode": {
   "interpreter": {
    "hash": "e137ca245cdf1a2cc3131fd2af47b41809479e40b59e745af3a34d098f41895f"
   }
  }
 },
 "nbformat": 4,
 "nbformat_minor": 2
}
